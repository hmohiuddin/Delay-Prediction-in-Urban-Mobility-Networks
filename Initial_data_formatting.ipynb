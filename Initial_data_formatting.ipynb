{
  "nbformat": 4,
  "nbformat_minor": 0,
  "metadata": {
    "colab": {
      "name": "ProjectData.ipynb",
      "provenance": []
    },
    "kernelspec": {
      "name": "python3",
      "display_name": "Python 3"
    },
    "language_info": {
      "name": "python"
    }
  },
  "cells": [
    {
      "cell_type": "markdown",
      "source": [
        "# Formatting given tranportation data"
      ],
      "metadata": {
        "id": "vcA4cql7Fy2C"
      }
    },
    {
      "cell_type": "code",
      "metadata": {
        "id": "a5N5sec54cUh"
      },
      "source": [
        "import pandas as pd"
      ],
      "execution_count": 1,
      "outputs": []
    },
    {
      "cell_type": "markdown",
      "metadata": {
        "id": "gohJOTXNwjOw"
      },
      "source": [
        "## Importing Data"
      ]
    },
    {
      "cell_type": "code",
      "metadata": {
        "id": "-gggQ_3l9kWD"
      },
      "source": [
        "df1 = pd.read_csv('FplAbweichung_Feb19_1_gesamt.csv',  \n",
        "                  sep=';',  \n",
        "                  encoding=\"ISO-8859-1\")"
      ],
      "execution_count": null,
      "outputs": []
    },
    {
      "cell_type": "code",
      "metadata": {
        "id": "3n0Qk3xP-B0M"
      },
      "source": [
        "df2 = pd.read_csv('FplAbweichung_Jan19_gesamt.csv',  \n",
        "                  sep=';',  \n",
        "                  encoding=\"ISO-8859-1\")"
      ],
      "execution_count": null,
      "outputs": []
    },
    {
      "cell_type": "code",
      "metadata": {
        "colab": {
          "base_uri": "https://localhost:8080/"
        },
        "id": "QkBhNf-njjIv",
        "outputId": "57a4b869-35c9-4f7c-c202-b4bc58a6422e"
      },
      "source": [
        "print(df1.columns)"
      ],
      "execution_count": null,
      "outputs": [
        {
          "output_type": "stream",
          "name": "stdout",
          "text": [
            "Index(['Trip Code', 'Trip', 'Duty', 'Line', 'Pattern', 'Direction', 'Vehicle',\n",
            "       'Block', 'Date', 'Sched. dep. trip', 'Duration', 'First stop',\n",
            "       'Stop no (first)', 'Last stop', 'Stop no (last)', 'Stop', 'Stop no',\n",
            "       'Sched. arr', 'Actual arr', 'Sched. dep', 'Actual dep', 'Dwell time',\n",
            "       'On time', 'Dep.first', 'Arr.other', 'Dep.other', 'Arr.last',\n",
            "       'Outliers'],\n",
            "      dtype='object')\n"
          ]
        }
      ]
    },
    {
      "cell_type": "code",
      "metadata": {
        "colab": {
          "base_uri": "https://localhost:8080/"
        },
        "id": "WkJL7s4pkRxt",
        "outputId": "ecf96984-8715-407e-c96e-5d480f2b69ee"
      },
      "source": [
        "print(df2.columns)"
      ],
      "execution_count": null,
      "outputs": [
        {
          "output_type": "stream",
          "name": "stdout",
          "text": [
            "Index(['Fahrt', 'Linie', 'Route', 'Richtung', 'WUM', 'Datum', 'Soll Ab Fahrt',\n",
            "       'Dauer', 'Erste Hst', 'Hst-Nr (erste)', 'Letzte Hst', 'Hst-Nr (letzte)',\n",
            "       'Hst', 'Hst-Nr', 'Soll An', 'Ist An', 'Soll Ab', 'Ist Ab', 'Stand Hst',\n",
            "       'Pünktlich', 'Ab.erste', 'An.sonst', 'Ab.sonst', 'An.letzte',\n",
            "       'Ausreißer'],\n",
            "      dtype='object')\n"
          ]
        }
      ]
    },
    {
      "cell_type": "markdown",
      "metadata": {
        "id": "OwQqkDtAwZoN"
      },
      "source": [
        "### January Data Formatting \n",
        "\n",
        "The column name of the January data was in German. But in other data sets columns name are in English. So keep the consistency we need to change the column names to English."
      ]
    },
    {
      "cell_type": "code",
      "metadata": {
        "id": "bw0nk9ZRulYU"
      },
      "source": [
        "df2new = df2[['Linie','Route','Richtung','Datum','Hst', 'Hst-Nr','Soll An','Ist An', 'Soll Ab', 'Ist Ab', 'Stand Hst']]"
      ],
      "execution_count": null,
      "outputs": []
    },
    {
      "cell_type": "code",
      "metadata": {
        "colab": {
          "base_uri": "https://localhost:8080/",
          "height": 306
        },
        "id": "VIV_Hj62vc9l",
        "outputId": "0d2d728f-e689-4a94-9121-9d10137ffcbd"
      },
      "source": [
        "df2new.head()"
      ],
      "execution_count": null,
      "outputs": [
        {
          "output_type": "execute_result",
          "data": {
            "text/html": [
              "<div>\n",
              "<style scoped>\n",
              "    .dataframe tbody tr th:only-of-type {\n",
              "        vertical-align: middle;\n",
              "    }\n",
              "\n",
              "    .dataframe tbody tr th {\n",
              "        vertical-align: top;\n",
              "    }\n",
              "\n",
              "    .dataframe thead th {\n",
              "        text-align: right;\n",
              "    }\n",
              "</style>\n",
              "<table border=\"1\" class=\"dataframe\">\n",
              "  <thead>\n",
              "    <tr style=\"text-align: right;\">\n",
              "      <th></th>\n",
              "      <th>Linie</th>\n",
              "      <th>Route</th>\n",
              "      <th>Richtung</th>\n",
              "      <th>Datum</th>\n",
              "      <th>Hst</th>\n",
              "      <th>Hst-Nr</th>\n",
              "      <th>Soll An</th>\n",
              "      <th>Ist An</th>\n",
              "      <th>Soll Ab</th>\n",
              "      <th>Ist Ab</th>\n",
              "      <th>Stand Hst</th>\n",
              "    </tr>\n",
              "  </thead>\n",
              "  <tbody>\n",
              "    <tr>\n",
              "      <th>0</th>\n",
              "      <td>21</td>\n",
              "      <td>21/205   Grete-Henry-Straße -&gt; Auf der Lieth</td>\n",
              "      <td>2</td>\n",
              "      <td>01.01.2019</td>\n",
              "      <td>Grete-Henry-Straße</td>\n",
              "      <td>GHS11</td>\n",
              "      <td>09:48:00</td>\n",
              "      <td>09:48:37</td>\n",
              "      <td>09:48:00</td>\n",
              "      <td>09:48:37</td>\n",
              "      <td>00:00:00</td>\n",
              "    </tr>\n",
              "    <tr>\n",
              "      <th>1</th>\n",
              "      <td>21</td>\n",
              "      <td>21/205   Grete-Henry-Straße -&gt; Auf der Lieth</td>\n",
              "      <td>2</td>\n",
              "      <td>01.01.2019</td>\n",
              "      <td>Vor dem Walde</td>\n",
              "      <td>VDW11</td>\n",
              "      <td>09:49:00</td>\n",
              "      <td>09:49:40</td>\n",
              "      <td>09:49:00</td>\n",
              "      <td>09:49:40</td>\n",
              "      <td>00:00:00</td>\n",
              "    </tr>\n",
              "    <tr>\n",
              "      <th>2</th>\n",
              "      <td>21</td>\n",
              "      <td>21/205   Grete-Henry-Straße -&gt; Auf der Lieth</td>\n",
              "      <td>2</td>\n",
              "      <td>01.01.2019</td>\n",
              "      <td>Schöneberger Straße</td>\n",
              "      <td>SBS13</td>\n",
              "      <td>09:50:00</td>\n",
              "      <td>09:50:51</td>\n",
              "      <td>09:50:00</td>\n",
              "      <td>09:50:51</td>\n",
              "      <td>00:00:00</td>\n",
              "    </tr>\n",
              "    <tr>\n",
              "      <th>3</th>\n",
              "      <td>21</td>\n",
              "      <td>21/205   Grete-Henry-Straße -&gt; Auf der Lieth</td>\n",
              "      <td>2</td>\n",
              "      <td>01.01.2019</td>\n",
              "      <td>Gehrenring</td>\n",
              "      <td>GRR11</td>\n",
              "      <td>09:51:00</td>\n",
              "      <td>09:51:33</td>\n",
              "      <td>09:51:00</td>\n",
              "      <td>09:51:33</td>\n",
              "      <td>00:00:00</td>\n",
              "    </tr>\n",
              "    <tr>\n",
              "      <th>4</th>\n",
              "      <td>21</td>\n",
              "      <td>21/205   Grete-Henry-Straße -&gt; Auf der Lieth</td>\n",
              "      <td>2</td>\n",
              "      <td>01.01.2019</td>\n",
              "      <td>Adolf-Sievert-Straße</td>\n",
              "      <td>ASS11</td>\n",
              "      <td>09:52:00</td>\n",
              "      <td>09:52:43</td>\n",
              "      <td>09:52:00</td>\n",
              "      <td>09:52:43</td>\n",
              "      <td>00:00:00</td>\n",
              "    </tr>\n",
              "  </tbody>\n",
              "</table>\n",
              "</div>"
            ],
            "text/plain": [
              "   Linie                                         Route  ...    Ist Ab Stand Hst\n",
              "0     21  21/205   Grete-Henry-Straße -> Auf der Lieth  ...  09:48:37  00:00:00\n",
              "1     21  21/205   Grete-Henry-Straße -> Auf der Lieth  ...  09:49:40  00:00:00\n",
              "2     21  21/205   Grete-Henry-Straße -> Auf der Lieth  ...  09:50:51  00:00:00\n",
              "3     21  21/205   Grete-Henry-Straße -> Auf der Lieth  ...  09:51:33  00:00:00\n",
              "4     21  21/205   Grete-Henry-Straße -> Auf der Lieth  ...  09:52:43  00:00:00\n",
              "\n",
              "[5 rows x 11 columns]"
            ]
          },
          "metadata": {},
          "execution_count": 47
        }
      ]
    },
    {
      "cell_type": "markdown",
      "metadata": {
        "id": "CsfaOOFbwnW9"
      },
      "source": [
        "#### Changing Column Names"
      ]
    },
    {
      "cell_type": "code",
      "metadata": {
        "id": "IyNTElL-wSdC"
      },
      "source": [
        "newCol = {\n",
        "    'Linie':'Line',\n",
        "    'Route':'Pattern',\n",
        "    'Richtung':'Direction',\n",
        "    'Datum':'Date',\n",
        "    'Hst':'Stop',\n",
        "    'Hst-Nr':'Stop no',\n",
        "    'Soll An':'Sched. arr',\n",
        "    'Ist An':'Actual arr',\n",
        "    'Soll Ab':'Sched. dep',\n",
        "    'Ist Ab':'Actual dep',\n",
        "    'Stand Hst':'Dwell time' \n",
        "}"
      ],
      "execution_count": null,
      "outputs": []
    },
    {
      "cell_type": "code",
      "metadata": {
        "id": "WvZ2GWbhyALl"
      },
      "source": [
        "df2new.rename(columns=newCol, inplace=True)"
      ],
      "execution_count": null,
      "outputs": []
    },
    {
      "cell_type": "code",
      "metadata": {
        "id": "BNmE7TzlyOuG",
        "colab": {
          "base_uri": "https://localhost:8080/",
          "height": 206
        },
        "outputId": "9f02a46b-53ac-446a-f87a-5c1946d1f1e9"
      },
      "source": [
        "df2new.head()"
      ],
      "execution_count": 5,
      "outputs": [
        {
          "output_type": "execute_result",
          "data": {
            "text/plain": [
              "   Line                                       Pattern  Direction        Date  \\\n",
              "0    21  21/205   Grete-Henry-Straße -> Auf der Lieth          2  01.01.2019   \n",
              "1    21  21/205   Grete-Henry-Straße -> Auf der Lieth          2  01.01.2019   \n",
              "2    21  21/205   Grete-Henry-Straße -> Auf der Lieth          2  01.01.2019   \n",
              "3    21  21/205   Grete-Henry-Straße -> Auf der Lieth          2  01.01.2019   \n",
              "4    21  21/205   Grete-Henry-Straße -> Auf der Lieth          2  01.01.2019   \n",
              "\n",
              "                   Stop Stop no Sched. arr Actual arr Sched. dep Actual dep  \\\n",
              "0    Grete-Henry-Straße   GHS11   09:48:00   09:48:37   09:48:00   09:48:37   \n",
              "1         Vor dem Walde   VDW11   09:49:00   09:49:40   09:49:00   09:49:40   \n",
              "2   Schöneberger Straße   SBS13   09:50:00   09:50:51   09:50:00   09:50:51   \n",
              "3            Gehrenring   GRR11   09:51:00   09:51:33   09:51:00   09:51:33   \n",
              "4  Adolf-Sievert-Straße   ASS11   09:52:00   09:52:43   09:52:00   09:52:43   \n",
              "\n",
              "  Dwell time  \n",
              "0   00:00:00  \n",
              "1   00:00:00  \n",
              "2   00:00:00  \n",
              "3   00:00:00  \n",
              "4   00:00:00  "
            ],
            "text/html": [
              "\n",
              "  <div id=\"df-e27be745-3799-49f2-886b-4b1dfc6ab660\">\n",
              "    <div class=\"colab-df-container\">\n",
              "      <div>\n",
              "<style scoped>\n",
              "    .dataframe tbody tr th:only-of-type {\n",
              "        vertical-align: middle;\n",
              "    }\n",
              "\n",
              "    .dataframe tbody tr th {\n",
              "        vertical-align: top;\n",
              "    }\n",
              "\n",
              "    .dataframe thead th {\n",
              "        text-align: right;\n",
              "    }\n",
              "</style>\n",
              "<table border=\"1\" class=\"dataframe\">\n",
              "  <thead>\n",
              "    <tr style=\"text-align: right;\">\n",
              "      <th></th>\n",
              "      <th>Line</th>\n",
              "      <th>Pattern</th>\n",
              "      <th>Direction</th>\n",
              "      <th>Date</th>\n",
              "      <th>Stop</th>\n",
              "      <th>Stop no</th>\n",
              "      <th>Sched. arr</th>\n",
              "      <th>Actual arr</th>\n",
              "      <th>Sched. dep</th>\n",
              "      <th>Actual dep</th>\n",
              "      <th>Dwell time</th>\n",
              "    </tr>\n",
              "  </thead>\n",
              "  <tbody>\n",
              "    <tr>\n",
              "      <th>0</th>\n",
              "      <td>21</td>\n",
              "      <td>21/205   Grete-Henry-Straße -&gt; Auf der Lieth</td>\n",
              "      <td>2</td>\n",
              "      <td>01.01.2019</td>\n",
              "      <td>Grete-Henry-Straße</td>\n",
              "      <td>GHS11</td>\n",
              "      <td>09:48:00</td>\n",
              "      <td>09:48:37</td>\n",
              "      <td>09:48:00</td>\n",
              "      <td>09:48:37</td>\n",
              "      <td>00:00:00</td>\n",
              "    </tr>\n",
              "    <tr>\n",
              "      <th>1</th>\n",
              "      <td>21</td>\n",
              "      <td>21/205   Grete-Henry-Straße -&gt; Auf der Lieth</td>\n",
              "      <td>2</td>\n",
              "      <td>01.01.2019</td>\n",
              "      <td>Vor dem Walde</td>\n",
              "      <td>VDW11</td>\n",
              "      <td>09:49:00</td>\n",
              "      <td>09:49:40</td>\n",
              "      <td>09:49:00</td>\n",
              "      <td>09:49:40</td>\n",
              "      <td>00:00:00</td>\n",
              "    </tr>\n",
              "    <tr>\n",
              "      <th>2</th>\n",
              "      <td>21</td>\n",
              "      <td>21/205   Grete-Henry-Straße -&gt; Auf der Lieth</td>\n",
              "      <td>2</td>\n",
              "      <td>01.01.2019</td>\n",
              "      <td>Schöneberger Straße</td>\n",
              "      <td>SBS13</td>\n",
              "      <td>09:50:00</td>\n",
              "      <td>09:50:51</td>\n",
              "      <td>09:50:00</td>\n",
              "      <td>09:50:51</td>\n",
              "      <td>00:00:00</td>\n",
              "    </tr>\n",
              "    <tr>\n",
              "      <th>3</th>\n",
              "      <td>21</td>\n",
              "      <td>21/205   Grete-Henry-Straße -&gt; Auf der Lieth</td>\n",
              "      <td>2</td>\n",
              "      <td>01.01.2019</td>\n",
              "      <td>Gehrenring</td>\n",
              "      <td>GRR11</td>\n",
              "      <td>09:51:00</td>\n",
              "      <td>09:51:33</td>\n",
              "      <td>09:51:00</td>\n",
              "      <td>09:51:33</td>\n",
              "      <td>00:00:00</td>\n",
              "    </tr>\n",
              "    <tr>\n",
              "      <th>4</th>\n",
              "      <td>21</td>\n",
              "      <td>21/205   Grete-Henry-Straße -&gt; Auf der Lieth</td>\n",
              "      <td>2</td>\n",
              "      <td>01.01.2019</td>\n",
              "      <td>Adolf-Sievert-Straße</td>\n",
              "      <td>ASS11</td>\n",
              "      <td>09:52:00</td>\n",
              "      <td>09:52:43</td>\n",
              "      <td>09:52:00</td>\n",
              "      <td>09:52:43</td>\n",
              "      <td>00:00:00</td>\n",
              "    </tr>\n",
              "  </tbody>\n",
              "</table>\n",
              "</div>\n",
              "      <button class=\"colab-df-convert\" onclick=\"convertToInteractive('df-e27be745-3799-49f2-886b-4b1dfc6ab660')\"\n",
              "              title=\"Convert this dataframe to an interactive table.\"\n",
              "              style=\"display:none;\">\n",
              "        \n",
              "  <svg xmlns=\"http://www.w3.org/2000/svg\" height=\"24px\"viewBox=\"0 0 24 24\"\n",
              "       width=\"24px\">\n",
              "    <path d=\"M0 0h24v24H0V0z\" fill=\"none\"/>\n",
              "    <path d=\"M18.56 5.44l.94 2.06.94-2.06 2.06-.94-2.06-.94-.94-2.06-.94 2.06-2.06.94zm-11 1L8.5 8.5l.94-2.06 2.06-.94-2.06-.94L8.5 2.5l-.94 2.06-2.06.94zm10 10l.94 2.06.94-2.06 2.06-.94-2.06-.94-.94-2.06-.94 2.06-2.06.94z\"/><path d=\"M17.41 7.96l-1.37-1.37c-.4-.4-.92-.59-1.43-.59-.52 0-1.04.2-1.43.59L10.3 9.45l-7.72 7.72c-.78.78-.78 2.05 0 2.83L4 21.41c.39.39.9.59 1.41.59.51 0 1.02-.2 1.41-.59l7.78-7.78 2.81-2.81c.8-.78.8-2.07 0-2.86zM5.41 20L4 18.59l7.72-7.72 1.47 1.35L5.41 20z\"/>\n",
              "  </svg>\n",
              "      </button>\n",
              "      \n",
              "  <style>\n",
              "    .colab-df-container {\n",
              "      display:flex;\n",
              "      flex-wrap:wrap;\n",
              "      gap: 12px;\n",
              "    }\n",
              "\n",
              "    .colab-df-convert {\n",
              "      background-color: #E8F0FE;\n",
              "      border: none;\n",
              "      border-radius: 50%;\n",
              "      cursor: pointer;\n",
              "      display: none;\n",
              "      fill: #1967D2;\n",
              "      height: 32px;\n",
              "      padding: 0 0 0 0;\n",
              "      width: 32px;\n",
              "    }\n",
              "\n",
              "    .colab-df-convert:hover {\n",
              "      background-color: #E2EBFA;\n",
              "      box-shadow: 0px 1px 2px rgba(60, 64, 67, 0.3), 0px 1px 3px 1px rgba(60, 64, 67, 0.15);\n",
              "      fill: #174EA6;\n",
              "    }\n",
              "\n",
              "    [theme=dark] .colab-df-convert {\n",
              "      background-color: #3B4455;\n",
              "      fill: #D2E3FC;\n",
              "    }\n",
              "\n",
              "    [theme=dark] .colab-df-convert:hover {\n",
              "      background-color: #434B5C;\n",
              "      box-shadow: 0px 1px 3px 1px rgba(0, 0, 0, 0.15);\n",
              "      filter: drop-shadow(0px 1px 2px rgba(0, 0, 0, 0.3));\n",
              "      fill: #FFFFFF;\n",
              "    }\n",
              "  </style>\n",
              "\n",
              "      <script>\n",
              "        const buttonEl =\n",
              "          document.querySelector('#df-e27be745-3799-49f2-886b-4b1dfc6ab660 button.colab-df-convert');\n",
              "        buttonEl.style.display =\n",
              "          google.colab.kernel.accessAllowed ? 'block' : 'none';\n",
              "\n",
              "        async function convertToInteractive(key) {\n",
              "          const element = document.querySelector('#df-e27be745-3799-49f2-886b-4b1dfc6ab660');\n",
              "          const dataTable =\n",
              "            await google.colab.kernel.invokeFunction('convertToInteractive',\n",
              "                                                     [key], {});\n",
              "          if (!dataTable) return;\n",
              "\n",
              "          const docLinkHtml = 'Like what you see? Visit the ' +\n",
              "            '<a target=\"_blank\" href=https://colab.research.google.com/notebooks/data_table.ipynb>data table notebook</a>'\n",
              "            + ' to learn more about interactive tables.';\n",
              "          element.innerHTML = '';\n",
              "          dataTable['output_type'] = 'display_data';\n",
              "          await google.colab.output.renderOutput(dataTable, element);\n",
              "          const docLink = document.createElement('div');\n",
              "          docLink.innerHTML = docLinkHtml;\n",
              "          element.appendChild(docLink);\n",
              "        }\n",
              "      </script>\n",
              "    </div>\n",
              "  </div>\n",
              "  "
            ]
          },
          "metadata": {},
          "execution_count": 5
        }
      ]
    },
    {
      "cell_type": "code",
      "metadata": {
        "id": "yMVn8zloyeae"
      },
      "source": [
        "df2new.to_csv('january_data.csv', index=False)"
      ],
      "execution_count": null,
      "outputs": []
    }
  ]
}